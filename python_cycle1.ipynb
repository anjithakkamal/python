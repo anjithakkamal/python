{
  "nbformat": 4,
  "nbformat_minor": 0,
  "metadata": {
    "colab": {
      "name": "python_cycle1.ipynb",
      "provenance": [],
      "collapsed_sections": [],
      "authorship_tag": "ABX9TyMp7i0/VSN9zVH6R7EFid5q",
      "include_colab_link": true
    },
    "kernelspec": {
      "name": "python3",
      "display_name": "Python 3"
    }
  },
  "cells": [
    {
      "cell_type": "markdown",
      "metadata": {
        "id": "view-in-github",
        "colab_type": "text"
      },
      "source": [
        "<a href=\"https://colab.research.google.com/github/anjithakkamal/python/blob/main/python_cycle1.ipynb\" target=\"_parent\"><img src=\"https://colab.research.google.com/assets/colab-badge.svg\" alt=\"Open In Colab\"/></a>"
      ]
    },
    {
      "cell_type": "code",
      "metadata": {
        "colab": {
          "base_uri": "https://localhost:8080/"
        },
        "id": "9Gp8bHXUx3zR",
        "outputId": "e008e0ae-17c2-4fcf-a00a-878a445cc0c3"
      },
      "source": [
        "#print hello world\r\n",
        "\r\n",
        "print(\"HELLO WORLD\")"
      ],
      "execution_count": null,
      "outputs": [
        {
          "output_type": "stream",
          "text": [
            "HELLO WORLD\n",
            "1\n"
          ],
          "name": "stdout"
        }
      ]
    },
    {
      "cell_type": "code",
      "metadata": {
        "id": "FOs2fS-PyUoN",
        "colab": {
          "base_uri": "https://localhost:8080/"
        },
        "outputId": "5359d669-ca80-41ec-e742-fd0db510aa18"
      },
      "source": [
        "#print an integer\r\n",
        "\r\n",
        "x=int(input(\"Enter the number : \"))\r\n",
        "print(x)"
      ],
      "execution_count": null,
      "outputs": [
        {
          "output_type": "stream",
          "text": [
            "Enter the number : 90\n",
            "90\n"
          ],
          "name": "stdout"
        }
      ]
    },
    {
      "cell_type": "code",
      "metadata": {
        "colab": {
          "base_uri": "https://localhost:8080/"
        },
        "id": "SNlUpbxY_pyJ",
        "outputId": "0c5f2432-dadd-4dca-e987-ee43c65d6490"
      },
      "source": [
        "# add 2  integer\r\n",
        "\r\n",
        "x=int(input(\"enter first integer:\"))\r\n",
        "y=int(input(\"enter second integer:\"))\r\n",
        "print('sum : ',x+y)\r\n"
      ],
      "execution_count": null,
      "outputs": [
        {
          "output_type": "stream",
          "text": [
            "enter the number:1\n",
            "enter the number2\n",
            "3\n"
          ],
          "name": "stdout"
        }
      ]
    },
    {
      "cell_type": "code",
      "metadata": {
        "colab": {
          "base_uri": "https://localhost:8080/"
        },
        "id": "-iN22HV-A_Z3",
        "outputId": "617e22fe-6933-48e8-8bde-e5104fd97471"
      },
      "source": [
        "# multiply 2 float\r\n",
        "\r\n",
        "x=float(input(\"enter first number:\"))\r\n",
        "y=float(input(\"enter second number\"))\r\n",
        "print(\"product is : \",x*y)"
      ],
      "execution_count": null,
      "outputs": [
        {
          "output_type": "stream",
          "text": [
            "enter the number:2\n",
            "enter the number3\n",
            "6.0\n"
          ],
          "name": "stdout"
        }
      ]
    },
    {
      "cell_type": "code",
      "metadata": {
        "colab": {
          "base_uri": "https://localhost:8080/"
        },
        "id": "8Erry-1mB7JV",
        "outputId": "8338fe1b-53f5-4302-85d3-661aed8eebb2"
      },
      "source": [
        "# Quotient remainder\r\n",
        "\r\n",
        "x=int(input(\"enter first number:\"))\r\n",
        "y=int(input(\"enter second number:\"))\r\n",
        "print('Quotient : ',x//y)\r\n",
        "print('Remainder : ',x%y)"
      ],
      "execution_count": null,
      "outputs": [
        {
          "output_type": "stream",
          "text": [
            "enter the number:15\n",
            "enter the number:2\n",
            "Quotient 7.5\n",
            "Quotient of  15.0 and  2.0  is  7.0\n",
            "Remainder of  15.0 and  2.0  is  1.0\n"
          ],
          "name": "stdout"
        }
      ]
    },
    {
      "cell_type": "code",
      "metadata": {
        "colab": {
          "base_uri": "https://localhost:8080/"
        },
        "id": "VEuV9a-2FKn5",
        "outputId": "242ae433-cd07-43e1-e221-6d638b7e3564"
      },
      "source": [
        "# swap 2 number\r\n",
        "\r\n",
        "x=int(input(\"enter first number:\"))\r\n",
        "y=int(input(\"enter second number:\"))\r\n",
        "print('the value of x before swapping : ',x)\r\n",
        "print('the value of y before swapping : ',y)\r\n",
        "temp=x\r\n",
        "x=y\r\n",
        "y=temp\r\n",
        "print('the value of x after swapping : ',x)\r\n",
        "print('the value of y after swapping : ',y)"
      ],
      "execution_count": null,
      "outputs": [
        {
          "output_type": "stream",
          "text": [
            "enter the number:12\n",
            "enter the number:13\n",
            "the value of  13 after swapping\n",
            "the value of 12 after swapping\n"
          ],
          "name": "stdout"
        }
      ]
    },
    {
      "cell_type": "code",
      "metadata": {
        "colab": {
          "base_uri": "https://localhost:8080/"
        },
        "id": "ZwwBoB3YKU0y",
        "outputId": "30d2b5c7-ae92-4cef-d273-5a104a7dd9ae"
      },
      "source": [
        "# odd even\r\n",
        "\r\n",
        "x=int(input(\"enter the number : \"))\r\n",
        "if(x%2==0):\r\n",
        " print(x,' is an even number')\r\n",
        "else:\r\n",
        " print(x,' is an odd number')"
      ],
      "execution_count": null,
      "outputs": [
        {
          "output_type": "stream",
          "text": [
            "enter the number3\n",
            "the number  3  is odd\n"
          ],
          "name": "stdout"
        }
      ]
    },
    {
      "cell_type": "code",
      "metadata": {
        "id": "1LyXD9yKNyCX"
      },
      "source": [
        "# vowel\r\n",
        "\r\n",
        "ch=input(\"Enter any character : \")\r\n",
        "if (ch=='A' or ch=='E' or ch=='I' or ch=='O' or ch=='U' or ch=='a' or ch=='e' or ch=='i' or ch=='o' or ch=='u'):\r\n",
        "  print(ch,' is a vowel')\r\n",
        "else:\r\n",
        "  print(ch,'is a consonant')"
      ],
      "execution_count": null,
      "outputs": []
    },
    {
      "cell_type": "code",
      "metadata": {
        "id": "SBWL64x8N2lf"
      },
      "source": [
        "# largest among three\r\n",
        "\r\n",
        "a=float(input(\"Enter the first number : \"))\r\n",
        "b=float(input(\"Enter the second number : \"))\r\n",
        "c=float(input(\"Enter the third number : \"))\r\n",
        "if(a>b) and (a>c):\r\n",
        "  print(a,' is largest number')\r\n",
        "elif(b>a) and (b>c):\r\n",
        "  print(b,' is largest number')\r\n",
        "else:\r\n",
        "  print(c,' is largest number')"
      ],
      "execution_count": null,
      "outputs": []
    },
    {
      "cell_type": "code",
      "metadata": {
        "id": "6lhr-nEGSmHq",
        "colab": {
          "base_uri": "https://localhost:8080/"
        },
        "outputId": "e589ba11-f56a-4b12-ea7d-8930eddb12d6"
      },
      "source": [
        "# leap year\r\n",
        "\r\n",
        "x=int(input(\"enter the year : \"))\r\n",
        "if(x%4==0):\r\n",
        "  print(x,' is a leap year')\r\n",
        "else:\r\n",
        "  print(x,' is not leap year')"
      ],
      "execution_count": null,
      "outputs": [
        {
          "output_type": "stream",
          "text": [
            "enter the year2011\n",
            "the year 2011 is not leap year\n"
          ],
          "name": "stdout"
        }
      ]
    },
    {
      "cell_type": "code",
      "metadata": {
        "colab": {
          "base_uri": "https://localhost:8080/"
        },
        "id": "0-ekN5sj8lii",
        "outputId": "01ba5da9-a920-4a74-8faa-4f5aed2b4e00"
      },
      "source": [
        "# positive or negative\r\n",
        "\r\n",
        "x=int(input(\"enter the value : \"))\r\n",
        "if(x>=0):\r\n",
        "  print(x,'is positive integer')\r\n",
        "else:\r\n",
        "  print(x,'is negative integer')"
      ],
      "execution_count": null,
      "outputs": [
        {
          "output_type": "stream",
          "text": [
            "enter the value-9\n",
            "the value -9 is negative integer\n"
          ],
          "name": "stdout"
        }
      ]
    },
    {
      "cell_type": "code",
      "metadata": {
        "colab": {
          "base_uri": "https://localhost:8080/"
        },
        "id": "vmSzxE2bBICC",
        "outputId": "ac0f77d6-dddb-42b2-ec87-f92c1dbc5a4f"
      },
      "source": [
        "# sum of natural numbers\r\n",
        "\r\n",
        "n=int(input(\"Enter the limit:\"))\r\n",
        "while i <= n:\r\n",
        "    s = s + i\r\n",
        "    i = i+1\r\n",
        "print('sum is : ',s)"
      ],
      "execution_count": null,
      "outputs": [
        {
          "output_type": "stream",
          "text": [
            "enter the number12\n",
            "Sum is 78\n"
          ],
          "name": "stdout"
        }
      ]
    },
    {
      "cell_type": "code",
      "metadata": {
        "colab": {
          "base_uri": "https://localhost:8080/"
        },
        "id": "0S2pVnilHYz_",
        "outputId": "39221a16-30e0-4a1a-f3d3-8f9a216ea1c6"
      },
      "source": [
        "# Factorial of a given number\r\n",
        "\r\n",
        "f=1\r\n",
        "i=1\r\n",
        "n=int(input(\"Enter the number:\"))\r\n",
        "while i <= n :\r\n",
        "  f *= i\r\n",
        "  i += 1\r\n",
        "print(\"factorial is :\",f)"
      ],
      "execution_count": null,
      "outputs": [
        {
          "output_type": "stream",
          "text": [
            "enter the number5\n",
            "factorial is 120\n"
          ],
          "name": "stdout"
        }
      ]
    },
    {
      "cell_type": "code",
      "metadata": {
        "colab": {
          "base_uri": "https://localhost:8080/"
        },
        "id": "kY2a_pZbJ9Oi",
        "outputId": "f68d612d-ce9f-4119-bcb5-59a98b71617f"
      },
      "source": [
        "# Multiplication Table\r\n",
        "\r\n",
        "n=int(input(\"Enter the number:\"))\r\n",
        "for i in range(1,11):\r\n",
        "  print(i,'x',n,'=',n*i)"
      ],
      "execution_count": null,
      "outputs": [
        {
          "output_type": "stream",
          "text": [
            "enter the number4\n",
            "4 x 1 = 4\n",
            "4 x 2 = 8\n",
            "4 x 3 = 12\n",
            "4 x 4 = 16\n",
            "4 x 5 = 20\n",
            "4 x 6 = 24\n",
            "4 x 7 = 28\n",
            "4 x 8 = 32\n",
            "4 x 9 = 36\n",
            "4 x 10 = 40\n"
          ],
          "name": "stdout"
        }
      ]
    },
    {
      "cell_type": "code",
      "metadata": {
        "id": "JSbjw4kMQmjM",
        "colab": {
          "base_uri": "https://localhost:8080/"
        },
        "outputId": "f5fc6612-37b1-4c9a-b677-c66c9ba16a15"
      },
      "source": [
        "#Fibbonacci series\r\n",
        "\r\n",
        "f,s=0,1\r\n",
        "count=0\r\n",
        "n=int(input(\"Enter the Number of Terms : \"))\r\n",
        "if(n<=0):\r\n",
        "  print(\"Enter a positive number : \")\r\n",
        "elif(n==1):\r\n",
        "  print(\"fibonacci series upto\",n,\": \")\r\n",
        "  print(f)\r\n",
        "else:\r\n",
        "  print(\"fibonacci series : \")\r\n",
        "  while(count<n):\r\n",
        "    print(f)\r\n",
        "    t=f+s\r\n",
        "    f=s\r\n",
        "    s=t\r\n",
        "    count+=1"
      ],
      "execution_count": null,
      "outputs": [
        {
          "output_type": "stream",
          "text": [
            "Enter the Number of Terms : 10\n",
            "0\n",
            "1\n",
            "1\n",
            "2\n",
            "3\n",
            "5\n",
            "8\n",
            "13\n",
            "21\n",
            "34\n",
            "55\n",
            "89\n",
            "144\n"
          ],
          "name": "stdout"
        }
      ]
    },
    {
      "cell_type": "code",
      "metadata": {
        "id": "FGCytzNIOUs-"
      },
      "source": [
        "#lcm\r\n",
        "\r\n",
        "def find_lcm(x, y):\r\n",
        "   if x > y:\r\n",
        "       greater = x\r\n",
        "   else:\r\n",
        "       greater = y\r\n",
        "   while(True):\r\n",
        "       if((greater % x == 0) and (greater % y == 0)):\r\n",
        "           lcm = greater\r\n",
        "           break\r\n",
        "       greater += 1\r\n",
        "   return lcm\r\n",
        "a=int(input(\"enter the value of first number :\"))\r\n",
        "b=int(input(\"enter the value of second number :\"))\r\n",
        "print(\"the L.C.M. is\", find_lcm(a,b))\r\n"
      ],
      "execution_count": null,
      "outputs": []
    },
    {
      "cell_type": "code",
      "metadata": {
        "id": "Y3rd6dEtXmfL"
      },
      "source": [
        "#Number of digit in an given number\r\n",
        "\r\n",
        "count=0\r\n",
        "n=int(input(\"Enter the Number : \"))\r\n",
        "t=n\r\n",
        "while(n > 0):\r\n",
        "  count += 1\r\n",
        "  n=n//10\r\n",
        "print('Number of Digit in ',t,' is ',count)"
      ],
      "execution_count": null,
      "outputs": []
    },
    {
      "cell_type": "code",
      "metadata": {
        "id": "p6obrTk4ZKOH"
      },
      "source": [
        "# Reverse of a number\r\n",
        "\r\n",
        "r=0\r\n",
        "n=int(input(\"Enter the Number : \"))\r\n",
        "t=n\r\n",
        "while(n > 0):\r\n",
        "  i = n%10\r\n",
        "  r = (r*10)+i\r\n",
        "  n = n//10\r\n",
        "print('the reverse of ',t,' is ',r)"
      ],
      "execution_count": null,
      "outputs": []
    },
    {
      "cell_type": "code",
      "metadata": {
        "id": "dLBnqejTOj14"
      },
      "source": [
        "#Power of a number\r\n",
        "\r\n",
        "n=int(input(\"Enter any positive number : \"))\r\n",
        "e=int(input(\"Enter the value of exponent : \"))\r\n",
        "p=1\r\n",
        "for i in range(1,e+1):\r\n",
        "  p=p*n\r\n",
        "print('the power of ',n,'^',e,' is ',p)"
      ],
      "execution_count": null,
      "outputs": []
    },
    {
      "cell_type": "code",
      "metadata": {
        "id": "j2BPl4EOZbb4"
      },
      "source": [
        "#Pallindrome\r\n",
        "\r\n",
        "n=int(input(\"Enter the number : \"))\r\n",
        "rev=0\r\n",
        "temp=n\r\n",
        "while(temp > 0):\r\n",
        "  r=temp%10\r\n",
        "  rev=(rev*10)+r\r\n",
        "  temp=temp//10\r\n",
        "print(\"Reverse of the given number is : \",rev)\r\n",
        "if(n==rev):\r\n",
        "  print(n,\" is a pallindrome number\")\r\n",
        "else:\r\n",
        "  print(n,\" is not a pallindrome number\")"
      ],
      "execution_count": null,
      "outputs": []
    }
  ]
}