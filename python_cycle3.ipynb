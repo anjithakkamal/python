{
  "nbformat": 4,
  "nbformat_minor": 0,
  "metadata": {
    "colab": {
      "name": "python_cycle3.ipynb",
      "provenance": [],
      "collapsed_sections": [],
      "authorship_tag": "ABX9TyOKzOshGOptyiRD7tZFCLXs",
      "include_colab_link": true
    },
    "kernelspec": {
      "name": "python3",
      "display_name": "Python 3"
    }
  },
  "cells": [
    {
      "cell_type": "markdown",
      "metadata": {
        "id": "view-in-github",
        "colab_type": "text"
      },
      "source": [
        "<a href=\"https://colab.research.google.com/github/anjithakkamal/python/blob/main/python_cycle3.ipynb\" target=\"_parent\"><img src=\"https://colab.research.google.com/assets/colab-badge.svg\" alt=\"Open In Colab\"/></a>"
      ]
    },
    {
      "cell_type": "code",
      "metadata": {
        "colab": {
          "base_uri": "https://localhost:8080/"
        },
        "id": "5YEVtDB4z6Li",
        "outputId": "3dfc03c1-9994-4e76-a4a2-585b35ea4b21"
      },
      "source": [
        "# 1factorial of a number\r\n",
        "num = 5\r\n",
        "factorial = 1\r\n",
        "if num < 0:\r\n",
        "   print(\"Sorry, factorial does not exist for negative numbers\")\r\n",
        "elif num == 0:\r\n",
        "   print(\"The factorial of 0 is 1\")\r\n",
        "else:\r\n",
        "   for i in range(1,num + 1):\r\n",
        "       factorial = factorial*i\r\n",
        "   print(\"The factorial of\",num,\"is\",factorial)\r\n"
      ],
      "execution_count": null,
      "outputs": [
        {
          "output_type": "stream",
          "text": [
            "The factorial of 5 is 120\n"
          ],
          "name": "stdout"
        }
      ]
    },
    {
      "cell_type": "code",
      "metadata": {
        "colab": {
          "base_uri": "https://localhost:8080/"
        },
        "id": "VsNU8Zy303WF",
        "outputId": "15e3aecc-0985-465d-d27a-1cd4d7b1d490"
      },
      "source": [
        "#2 fibanocci\r\n",
        "nterms = int(input(\"How many terms? \"))\r\n",
        "n1, n2 = 0, 1\r\n",
        "count = 0\r\n",
        "if nterms <= 0:\r\n",
        "   print(\"Please enter a positive integer\")\r\n",
        "elif nterms == 1:\r\n",
        "   print(\"Fibonacci sequence upto\",nterms,\":\")\r\n",
        "   print(n1)\r\n",
        "else:\r\n",
        "   print(\"Fibonacci sequence:\")\r\n",
        "   while count < nterms:\r\n",
        "       print(n1)\r\n",
        "       nth = n1 + n2\r\n",
        "       n1 = n2\r\n",
        "       n2 = nth\r\n",
        "       count += 1"
      ],
      "execution_count": null,
      "outputs": [
        {
          "output_type": "stream",
          "text": [
            "How many terms? 4\n",
            "Fibonacci sequence:\n",
            "0\n",
            "1\n",
            "1\n",
            "2\n"
          ],
          "name": "stdout"
        }
      ]
    },
    {
      "cell_type": "code",
      "metadata": {
        "id": "zf3PrKUY1tXP",
        "colab": {
          "base_uri": "https://localhost:8080/"
        },
        "outputId": "e48b39ae-eaae-4af6-c022-4e7945a9a687"
      },
      "source": [
        "#3 Sum of all elements in given list\r\n",
        "total = 0\r\n",
        "\r\n",
        "list1 = [11, 5, 17, 18, 23] \r\n",
        " \r\n",
        "for ele in range(0, len(list1)):\r\n",
        "    total = total + list1[ele]\r\n",
        " \r\n",
        "\r\n",
        "print(\"Sum of all elements in given list: \", total)"
      ],
      "execution_count": null,
      "outputs": [
        {
          "output_type": "stream",
          "text": [
            "Sum of all elements in given list:  74\n"
          ],
          "name": "stdout"
        }
      ]
    },
    {
      "cell_type": "code",
      "metadata": {
        "colab": {
          "base_uri": "https://localhost:8080/"
        },
        "id": "Q557NfaivTpl",
        "outputId": "bced6ce0-b932-4ea3-dcba-901eb06fbf07"
      },
      "source": [
        "#4perfect square\r\n",
        "l=int(input(\"Enter lower range: \"))\r\n",
        "r=int(input(\"Enter upper range: \"))\r\n",
        "for i in range(l,r+1,1):\r\n",
        "   for j in range(32,100,1):\r\n",
        "      if i == j*j:\r\n",
        "         string = str(i)\r\n",
        "         if int(string[0])%2 == 0 and int(string[1])%2 == 0 and int(string[2])%2 == 0 and int(string[3])%2 == 0:\r\n",
        "           print(i)"
      ],
      "execution_count": null,
      "outputs": [
        {
          "output_type": "stream",
          "text": [
            "Enter lower range: 64\n",
            "Enter upper range: 6400\n",
            "4624\n",
            "6084\n",
            "6400\n"
          ],
          "name": "stdout"
        }
      ]
    },
    {
      "cell_type": "code",
      "metadata": {
        "id": "mG_Wj3fjEBVZ",
        "colab": {
          "base_uri": "https://localhost:8080/"
        },
        "outputId": "0ea61360-9332-4855-b202-df628dd9cdfa"
      },
      "source": [
        "#5 pyramid using number\r\n",
        "row = int(input('Enter how many lines? '))\r\n",
        "for i in range(1,row+1):\r\n",
        "    \r\n",
        "    for j in range(1, row+1-i):\r\n",
        "        print(' ', end='')\r\n",
        "    \r\n",
        "    for j in range(1,i+1):\r\n",
        "        print(j, end='')\r\n",
        "     \r\n",
        "    for j in range(i-1,0,-1):\r\n",
        "        print(j, end='')\r\n",
        "    \r\n",
        "    print()"
      ],
      "execution_count": null,
      "outputs": [
        {
          "output_type": "stream",
          "text": [
            "Enter how many lines? 5\n",
            "    1\n",
            "   121\n",
            "  12321\n",
            " 1234321\n",
            "123454321\n"
          ],
          "name": "stdout"
        }
      ]
    },
    {
      "cell_type": "code",
      "metadata": {
        "id": "kCoP7wGwEMzZ",
        "colab": {
          "base_uri": "https://localhost:8080/"
        },
        "outputId": "1a728e44-69e3-420a-fb94-3e46fbb9e57d"
      },
      "source": [
        "#6 count the number of charachter\r\n",
        "test_str = \"sjcetpalai\"\r\n",
        "all_freq = {} \r\n",
        "  \r\n",
        "for i in test_str: \r\n",
        "    if i in all_freq: \r\n",
        "        all_freq[i] += 1\r\n",
        "    else: \r\n",
        "        all_freq[i] = 1 \r\n",
        "print (\"Count of all characters in sjcetpalai is :\\n \"\r\n",
        "                                        +  str(all_freq)) "
      ],
      "execution_count": null,
      "outputs": [
        {
          "output_type": "stream",
          "text": [
            "Count of all characters in sjcetpalai is :\n",
            " {'s': 1, 'j': 1, 'c': 1, 'e': 1, 't': 1, 'p': 1, 'a': 2, 'l': 1, 'i': 1}\n"
          ],
          "name": "stdout"
        }
      ]
    },
    {
      "cell_type": "code",
      "metadata": {
        "id": "f-6K--4BET4l",
        "colab": {
          "base_uri": "https://localhost:8080/"
        },
        "outputId": "590553e4-ca2b-4568-a011-7f2581eafba4"
      },
      "source": [
        "#7 'ing' at the end of the string\r\n",
        "def add_string(str1):\r\n",
        "  length = len(str1)\r\n",
        "\r\n",
        "  if length > 2:\r\n",
        "    if str1[-3:] == 'ing':\r\n",
        "      str1 += 'ly'\r\n",
        "    else:\r\n",
        "      str1 += 'ing'\r\n",
        "\r\n",
        "  return str1\r\n",
        "print(add_string('ab'))\r\n",
        "print(add_string('abc'))\r\n",
        "print(add_string('string'))"
      ],
      "execution_count": null,
      "outputs": [
        {
          "output_type": "stream",
          "text": [
            "ab\n",
            "abcing\n",
            "stringly\n"
          ],
          "name": "stdout"
        }
      ]
    },
    {
      "cell_type": "code",
      "metadata": {
        "id": "3INoiNXHEWDc",
        "colab": {
          "base_uri": "https://localhost:8080/"
        },
        "outputId": "b9f2ff7f-d5ad-484e-9cfa-b2f5d66d6d27"
      },
      "source": [
        "#8 length of the longest word\r\n",
        "def find_longest_word(words_list):\r\n",
        "    word_len = []\r\n",
        "    for n in words_list:\r\n",
        "        word_len.append((len(n), n))\r\n",
        "    word_len.sort()\r\n",
        "    return word_len[-1][0], word_len[-1][1]\r\n",
        "result = find_longest_word([\"PHP\", \"python\", \"webprogramming\"])\r\n",
        "print(\"\\nLongest word: \",result[1])\r\n",
        "print(\"Length of the longest word: \",result[0])"
      ],
      "execution_count": null,
      "outputs": [
        {
          "output_type": "stream",
          "text": [
            "\n",
            "Longest word:  webprogramming\n",
            "Length of the longest word:  14\n"
          ],
          "name": "stdout"
        }
      ]
    },
    {
      "cell_type": "code",
      "metadata": {
        "colab": {
          "base_uri": "https://localhost:8080/"
        },
        "id": "8NOljvQmCmZd",
        "outputId": "3339a363-341e-4f83-a660-475c4220da39"
      },
      "source": [
        "#9 pattern\r\n",
        "print(\"Print equilateral triangle Pyramid using stars \")\r\n",
        "size = 7\r\n",
        "m = (2 * size) - 2\r\n",
        "for i in range(0, size):\r\n",
        "    for j in range(0, m):\r\n",
        "        print(end=\" \")\r\n",
        "    m = m - 1  # decrementing m after each loop\r\n",
        "    for j in range(0, i + 1):\r\n",
        "        # printing full Triangle pyramid using stars\r\n",
        "        print(\"* \", end=' ')\r\n",
        "    print(\" \")"
      ],
      "execution_count": null,
      "outputs": [
        {
          "output_type": "stream",
          "text": [
            "Print equilateral triangle Pyramid using stars \n",
            "            *   \n",
            "           *  *   \n",
            "          *  *  *   \n",
            "         *  *  *  *   \n",
            "        *  *  *  *  *   \n",
            "       *  *  *  *  *  *   \n",
            "      *  *  *  *  *  *  *   \n"
          ],
          "name": "stdout"
        }
      ]
    },
    {
      "cell_type": "code",
      "metadata": {
        "colab": {
          "base_uri": "https://localhost:8080/"
        },
        "id": "wWiooiKT6gk_",
        "outputId": "4916c0a5-0e3f-42b0-aac4-c940ec53c9b1"
      },
      "source": [
        "#10 factors of a number\r\n",
        "def print_factors(x):\r\n",
        "   print(\"The factors of\",x,\"are:\")\r\n",
        "   for i in range(1, x + 1):\r\n",
        "       if x % i == 0:\r\n",
        "           print(i)\r\n",
        "\r\n",
        "num = 320\r\n",
        "\r\n",
        "print_factors(num)"
      ],
      "execution_count": null,
      "outputs": [
        {
          "output_type": "stream",
          "text": [
            "The factors of 320 are:\n",
            "1\n",
            "2\n",
            "4\n",
            "5\n",
            "8\n",
            "10\n",
            "16\n",
            "20\n",
            "32\n",
            "40\n",
            "64\n",
            "80\n",
            "160\n",
            "320\n"
          ],
          "name": "stdout"
        }
      ]
    },
    {
      "cell_type": "code",
      "metadata": {
        "colab": {
          "base_uri": "https://localhost:8080/"
        },
        "id": "G7KErzwW7WPw",
        "outputId": "4437f888-4dc9-4969-a57b-d17514816a0c"
      },
      "source": [
        "#11 lamda\r\n",
        "import math\r\n",
        "t_area = lambda s,a,b,c: (s*(s-a)*(s-b)*(s-c)) ** 0.5\r\n",
        "r_area = lambda len, ht : len*ht\r\n",
        "c_area = lambda rad : math.pi*rad*rad\r\n",
        "print(\"Area of Rectangle (30,20) is:\", r_area(30,20))\r\n",
        "print(\"Area of circle (15) is:\", c_area(15))\r\n",
        "print(\"Area of Triangle(25,10,20,20) is:\", t_area(25,10,20,20))"
      ],
      "execution_count": null,
      "outputs": [
        {
          "output_type": "stream",
          "text": [
            "Area of Rectangle (30,20) is: 600\n",
            "Area of circle (15) is: 706.8583470577034\n",
            "Area of Triangle(25,10,20,20) is: 96.82458365518542\n"
          ],
          "name": "stdout"
        }
      ]
    }
  ]
}