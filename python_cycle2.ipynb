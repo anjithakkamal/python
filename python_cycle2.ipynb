{
  "nbformat": 4,
  "nbformat_minor": 0,
  "metadata": {
    "colab": {
      "name": "python_cycle2.ipynb",
      "provenance": [],
      "collapsed_sections": [],
      "authorship_tag": "ABX9TyMsRlTcKc+Cp8EFcuQ0bA90",
      "include_colab_link": true
    },
    "kernelspec": {
      "name": "python3",
      "display_name": "Python 3"
    }
  },
  "cells": [
    {
      "cell_type": "markdown",
      "metadata": {
        "id": "view-in-github",
        "colab_type": "text"
      },
      "source": [
        "<a href=\"https://colab.research.google.com/github/anjithakkamal/python/blob/main/python_cycle2.ipynb\" target=\"_parent\"><img src=\"https://colab.research.google.com/assets/colab-badge.svg\" alt=\"Open In Colab\"/></a>"
      ]
    },
    {
      "cell_type": "code",
      "metadata": {
        "colab": {
          "base_uri": "https://localhost:8080/"
        },
        "id": "jfDxvVTsJHHj",
        "outputId": "eb6027f6-c386-43d8-8b77-7ebccfddaeb2"
      },
      "source": [
        "#1 comprehencive\r\n",
        "# list of numbers \r\n",
        "list1 = [11, -21, 0, 45, 66, -93] \r\n",
        "  \r\n",
        "# iterating each number in list \r\n",
        "for num in list1: \r\n",
        "      \r\n",
        "    # checking condition \r\n",
        "    if num >= 0: \r\n",
        "       print(num, end = \" \") "
      ],
      "execution_count": null,
      "outputs": [
        {
          "output_type": "stream",
          "text": [
            "11 0 45 66 "
          ],
          "name": "stdout"
        }
      ]
    },
    {
      "cell_type": "code",
      "metadata": {
        "colab": {
          "base_uri": "https://localhost:8080/"
        },
        "id": "bhMlewRqJVGf",
        "outputId": "3980fb9a-234f-4d9d-83b5-d34facba0f1d"
      },
      "source": [
        "#1b\r\n",
        "numbers = [1, 2, 3, 4, 5]\r\n",
        "\r\n",
        "squared_numbers = [number ** 2 for number in numbers]\r\n",
        "\r\n",
        "print(squared_numbers)"
      ],
      "execution_count": null,
      "outputs": [
        {
          "output_type": "stream",
          "text": [
            "[1, 4, 9, 16, 25]\n"
          ],
          "name": "stdout"
        }
      ]
    },
    {
      "cell_type": "code",
      "metadata": {
        "colab": {
          "base_uri": "https://localhost:8080/"
        },
        "id": "mfSxqHoJKX07",
        "outputId": "d44479ab-8152-4fd5-eb6a-f3e3c749e7ef"
      },
      "source": [
        "#1c\r\n",
        "# Python code to count and display number of vowels \r\n",
        "# Simply using for and comparing it with a \r\n",
        "# string containg all vowels \r\n",
        "def Check_Vow(string, vowels): \r\n",
        "\tfinal = [each for each in string if each in vowels] \r\n",
        "\tprint(len(final)) \r\n",
        "\tprint(final) \r\n",
        "\t\r\n",
        "# Driver Code \r\n",
        "string = \"python\"\r\n",
        "vowels = \"AaEeIiOoUu\"\r\n",
        "Check_Vow(string, vowels); \r\n"
      ],
      "execution_count": null,
      "outputs": [
        {
          "output_type": "stream",
          "text": [
            "1\n",
            "['o']\n"
          ],
          "name": "stdout"
        }
      ]
    },
    {
      "cell_type": "code",
      "metadata": {
        "id": "opcLGA8S7I3x",
        "colab": {
          "base_uri": "https://localhost:8080/"
        },
        "outputId": "1e753713-c9e0-4208-911f-b70061218400"
      },
      "source": [
        "#2 Display future leap years from current year to a final year entered by user\r\n",
        "y = int(input(\"Enter the final year : \"))\r\n",
        "print(\"Future leap years from 2021 : \")\r\n",
        "for x in range (2021 , y+1):\r\n",
        " if((x%4==0) and (x%100!=0)) or (x%400==0):\r\n",
        "   print(x)"
      ],
      "execution_count": 2,
      "outputs": [
        {
          "output_type": "stream",
          "text": [
            "Enter the final year : 2030\n",
            "Future leap years from 2021 : \n",
            "2024\n",
            "2028\n"
          ],
          "name": "stdout"
        }
      ]
    },
    {
      "cell_type": "code",
      "metadata": {
        "colab": {
          "base_uri": "https://localhost:8080/"
        },
        "id": "hQoEcs-O8_oh",
        "outputId": "1bb65c85-5ef4-4074-b91c-f46b40943d5d"
      },
      "source": [
        "#3a Generate positive list of numbers from a given list of integers\r\n",
        "mylist=[23 , 58 , -12 , 90 , -45 , 81 , 49 , -36] \r\n",
        "print(\"First list : \", mylist)\r\n",
        "newlist=[x for x in mylist if x > 0]\r\n",
        "print(\"New list : \" ,newlist)"
      ],
      "execution_count": 3,
      "outputs": [
        {
          "output_type": "stream",
          "text": [
            "First list :  [23, 58, -12, 90, -45, 81, 49, -36]\n",
            "New list :  [23, 58, 90, 81, 49]\n"
          ],
          "name": "stdout"
        }
      ]
    },
    {
      "cell_type": "code",
      "metadata": {
        "colab": {
          "base_uri": "https://localhost:8080/"
        },
        "id": "HYu_Iwr09Um4",
        "outputId": "49bf465a-a846-47c4-faae-ac9f35b6cd24"
      },
      "source": [
        "#3b Square of N numbers\r\n",
        "mylist=[2 ,5 , 3 , 8]\r\n",
        "print(\"First list : \" ,mylist)\r\n",
        "newlist=[number ** 2 for number in mylist]\r\n",
        "print(\"New list : \" ,newlist)"
      ],
      "execution_count": 4,
      "outputs": [
        {
          "output_type": "stream",
          "text": [
            "First list :  [2, 5, 3, 8]\n",
            "New list :  [4, 25, 9, 64]\n"
          ],
          "name": "stdout"
        }
      ]
    },
    {
      "cell_type": "code",
      "metadata": {
        "colab": {
          "base_uri": "https://localhost:8080/"
        },
        "id": "lVHnkPh64eW4",
        "outputId": "8e8c7746-6323-43d2-9cf8-5b00f4af4328"
      },
      "source": [
        "#4 word count\r\n",
        "def word_count(str):\r\n",
        "    counts = dict()\r\n",
        "    words = str.split()\r\n",
        "\r\n",
        "    for word in words:\r\n",
        "        if word in counts:\r\n",
        "            counts[word] += 1\r\n",
        "        else:\r\n",
        "            counts[word] = 1\r\n",
        "\r\n",
        "    return counts\r\n",
        "print( word_count('the quick brown fox jumps over the lazy dog.'))"
      ],
      "execution_count": null,
      "outputs": [
        {
          "output_type": "stream",
          "text": [
            "{'the': 2, 'quick': 1, 'brown': 1, 'fox': 1, 'jumps': 1, 'over': 1, 'lazy': 1, 'dog.': 1}\n"
          ],
          "name": "stdout"
        }
      ]
    },
    {
      "cell_type": "code",
      "metadata": {
        "colab": {
          "base_uri": "https://localhost:8080/"
        },
        "id": "qKyjOWGh9kOd",
        "outputId": "afdd59dc-78b0-4a2a-d53b-4e5522b1ee4d"
      },
      "source": [
        "#9 Create a string from given string where first and last characters exchanged\r\n",
        "a=input(\"Enter a string : \")\r\n",
        "print(\"New string : \")\r\n",
        "print(a[-1:] + a[1:-1] + a[0])"
      ],
      "execution_count": 7,
      "outputs": [
        {
          "output_type": "stream",
          "text": [
            "Enter a string : python\n",
            "New string : \n",
            "nythop\n"
          ],
          "name": "stdout"
        }
      ]
    },
    {
      "cell_type": "code",
      "metadata": {
        "colab": {
          "base_uri": "https://localhost:8080/"
        },
        "id": "WXPQUdNOEige",
        "outputId": "fb7f62d7-a9d2-4297-9059-3193168da188"
      },
      "source": [
        "#10 area circle\r\n",
        "import math\r\n",
        "r = float(input(\"Enter the radius of the circle: \"))\r\n",
        "area = math.pi* r * r\r\n",
        "print(\"%.2f\" %area)"
      ],
      "execution_count": null,
      "outputs": [
        {
          "output_type": "stream",
          "text": [
            "Enter the radius of the circle: 6\n",
            "113.10\n"
          ],
          "name": "stdout"
        }
      ]
    },
    {
      "cell_type": "code",
      "metadata": {
        "colab": {
          "base_uri": "https://localhost:8080/"
        },
        "id": "eDrorGRVFp4p",
        "outputId": "784e3b69-f10e-4c2c-e0de-63516ca0afb9"
      },
      "source": [
        "#11\r\n",
        "num1 = float(input(\"Enter first number: \"))\r\n",
        "num2 = float(input(\"Enter second number: \"))\r\n",
        "num3 = float(input(\"Enter third number: \"))\r\n",
        " \r\n",
        "if (num1 > num2) and (num1 > num3):\r\n",
        "   largest = num1\r\n",
        "elif (num2 > num1) and (num2 > num3):\r\n",
        "   largest = num2\r\n",
        "else:\r\n",
        "   largest = num3\r\n",
        " \r\n",
        "print(\"The largest number is\",largest)"
      ],
      "execution_count": null,
      "outputs": [
        {
          "output_type": "stream",
          "text": [
            "Enter first number: 10\n",
            "Enter second number: 12\n",
            "Enter third number: 14\n",
            "The largest number is 14.0\n"
          ],
          "name": "stdout"
        }
      ]
    },
    {
      "cell_type": "code",
      "metadata": {
        "colab": {
          "base_uri": "https://localhost:8080/"
        },
        "id": "6aL6mYTy-43l",
        "outputId": "908d91d6-7ced-442c-8ebe-ebeaf3614830"
      },
      "source": [
        "#12 Accept a file name from user and print extension of that\r\n",
        "filename = input(\"Enter the Filename : \")\r\n",
        "f_extns = filename.split(\".\")\r\n",
        "print (\"The extension of the file is : \" + repr(f_extns[-1]))"
      ],
      "execution_count": 8,
      "outputs": [
        {
          "output_type": "stream",
          "text": [
            "Enter the Filename : sort.html\n",
            "The extension of the file is : 'html'\n"
          ],
          "name": "stdout"
        }
      ]
    },
    {
      "cell_type": "code",
      "metadata": {
        "colab": {
          "base_uri": "https://localhost:8080/"
        },
        "id": "rqSPX0gw51rR",
        "outputId": "7bc857e7-37f3-4e76-eafc-25ef65ca182c"
      },
      "source": [
        "#17 sort ascending or descending\r\n",
        "import operator\r\n",
        "d = {1: 2, 3: 4, 4: 3, 2: 1, 0: 0}\r\n",
        "print('Original dictionary : ',d)\r\n",
        "sorted_d = sorted(d.items(), key=operator.itemgetter(1))\r\n",
        "print('Dictionary in ascending order by value : ',sorted_d)\r\n",
        "sorted_d = dict( sorted(d.items(), key=operator.itemgetter(1),reverse=True))\r\n",
        "print('Dictionary in descending order by value : ',sorted_d)\r\n"
      ],
      "execution_count": null,
      "outputs": [
        {
          "output_type": "stream",
          "text": [
            "Original dictionary :  {1: 2, 3: 4, 4: 3, 2: 1, 0: 0}\n",
            "Dictionary in ascending order by value :  [(0, 0), (2, 1), (1, 2), (4, 3), (3, 4)]\n",
            "Dictionary in descending order by value :  {3: 4, 4: 3, 1: 2, 2: 1, 0: 0}\n"
          ],
          "name": "stdout"
        }
      ]
    },
    {
      "cell_type": "code",
      "metadata": {
        "colab": {
          "base_uri": "https://localhost:8080/"
        },
        "id": "y5f-5kimAAKU",
        "outputId": "e0630036-e7b9-4b84-9ed4-271b72f30a9e"
      },
      "source": [
        "#18 merge 2 dictonery\r\n",
        "dict1 = {\"a\":100 ,\"b\":200}\r\n",
        "dict2 = {\"x\":300 ,\"y\":400}\r\n",
        "newdict = dict1.copy()\r\n",
        "newdict.update(dict2)\r\n",
        "print(\"Merged dictionary : \" , newdict)"
      ],
      "execution_count": null,
      "outputs": [
        {
          "output_type": "stream",
          "text": [
            "None\n",
            "{'d': 6, 'c': 4, 'a': 10, 'b': 8}\n"
          ],
          "name": "stdout"
        }
      ]
    },
    {
      "cell_type": "code",
      "metadata": {
        "colab": {
          "base_uri": "https://localhost:8080/"
        },
        "id": "Ytpx8XDpAq_l",
        "outputId": "8cc59fcd-6c4a-4632-aafe-ac186bd461cf"
      },
      "source": [
        "#19 gcd of 2 number\r\n",
        "import math \r\n",
        "  \r\n",
        "# prints 12 \r\n",
        "print(\"The gcd of 60 and 48 is : \", end=\"\") \r\n",
        "print(math.gcd(60, 48)) "
      ],
      "execution_count": null,
      "outputs": [
        {
          "output_type": "stream",
          "text": [
            "The gcd of 60 and 48 is : 12\n"
          ],
          "name": "stdout"
        }
      ]
    },
    {
      "cell_type": "code",
      "metadata": {
        "colab": {
          "base_uri": "https://localhost:8080/"
        },
        "id": "5adi054nBxTO",
        "outputId": "04d4de2c-036b-4c9d-b08d-303225994643"
      },
      "source": [
        "#20 list of even integer\r\n",
        "num = [7,8, 120, 25, 44, 20, 27]\r\n",
        "num = [x for x in num if x%2!=0]\r\n",
        "print(num)\r\n"
      ],
      "execution_count": null,
      "outputs": [
        {
          "output_type": "stream",
          "text": [
            "[7, 25, 27]\n"
          ],
          "name": "stdout"
        }
      ]
    }
  ]
}