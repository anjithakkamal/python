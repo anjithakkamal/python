{
  "nbformat": 4,
  "nbformat_minor": 0,
  "metadata": {
    "colab": {
      "name": "python_cycle2.ipynb",
      "provenance": [],
      "collapsed_sections": [],
      "authorship_tag": "ABX9TyMXTyDe/LN3cdHX/a39A6cJ",
      "include_colab_link": true
    },
    "kernelspec": {
      "name": "python3",
      "display_name": "Python 3"
    }
  },
  "cells": [
    {
      "cell_type": "markdown",
      "metadata": {
        "id": "view-in-github",
        "colab_type": "text"
      },
      "source": [
        "<a href=\"https://colab.research.google.com/github/anjithakkamal/python/blob/main/python_cycle2.ipynb\" target=\"_parent\"><img src=\"https://colab.research.google.com/assets/colab-badge.svg\" alt=\"Open In Colab\"/></a>"
      ]
    },
    {
      "cell_type": "code",
      "metadata": {
        "colab": {
          "base_uri": "https://localhost:8080/"
        },
        "id": "UyBhq9u7YngT",
        "outputId": "084e012c-6bbe-4293-8709-8122b7beee76"
      },
      "source": [
        "# personal details\r\n",
        "def personal_details():\r\n",
        "    name, age = \"Anjitha\", 21\r\n",
        "    address = \"Sindhu Bhavan, Kerala, India\"\r\n",
        "    print(\"Name: {}\\nAge: {}\\nAddress: {}\".format(name, age, address))\r\n",
        "\r\n",
        "personal_details()"
      ],
      "execution_count": 2,
      "outputs": [
        {
          "output_type": "stream",
          "text": [
            "Name: Anjitha\n",
            "Age: 21\n",
            "Address: Sindhu Bhavan, Kerala, India\n"
          ],
          "name": "stdout"
        }
      ]
    },
    {
      "cell_type": "code",
      "metadata": {
        "id": "opcLGA8S7I3x",
        "colab": {
          "base_uri": "https://localhost:8080/"
        },
        "outputId": "1e753713-c9e0-4208-911f-b70061218400"
      },
      "source": [
        "  #2 Display future leap years from current year to a final year entered by user\r\n",
        "y = int(input(\"Enter the final year : \"))\r\n",
        "print(\"Future leap years from 2021 : \")\r\n",
        "for x in range (2021 , y+1):\r\n",
        " if((x%4==0) and (x%100!=0)) or (x%400==0):\r\n",
        "   print(x)"
      ],
      "execution_count": null,
      "outputs": [
        {
          "output_type": "stream",
          "text": [
            "Enter the final year : 2030\n",
            "Future leap years from 2021 : \n",
            "2024\n",
            "2028\n"
          ],
          "name": "stdout"
        }
      ]
    },
    {
      "cell_type": "code",
      "metadata": {
        "colab": {
          "base_uri": "https://localhost:8080/"
        },
        "id": "hQoEcs-O8_oh",
        "outputId": "1bb65c85-5ef4-4074-b91c-f46b40943d5d"
      },
      "source": [
        "#3a Generate positive list of numbers from a given list of integers\r\n",
        "mylist=[23 , 58 , -12 , 90 , -45 , 81 , 49 , -36] \r\n",
        "print(\"First list : \", mylist)\r\n",
        "newlist=[x for x in mylist if x > 0]\r\n",
        "print(\"New list : \" ,newlist)"
      ],
      "execution_count": null,
      "outputs": [
        {
          "output_type": "stream",
          "text": [
            "First list :  [23, 58, -12, 90, -45, 81, 49, -36]\n",
            "New list :  [23, 58, 90, 81, 49]\n"
          ],
          "name": "stdout"
        }
      ]
    },
    {
      "cell_type": "code",
      "metadata": {
        "colab": {
          "base_uri": "https://localhost:8080/"
        },
        "id": "HYu_Iwr09Um4",
        "outputId": "49bf465a-a846-47c4-faae-ac9f35b6cd24"
      },
      "source": [
        "#3b Square of N numbers\r\n",
        "mylist=[2 ,5 , 3 , 8]\r\n",
        "print(\"First list : \" ,mylist)\r\n",
        "newlist=[number ** 2 for number in mylist]\r\n",
        "print(\"New list : \" ,newlist)"
      ],
      "execution_count": null,
      "outputs": [
        {
          "output_type": "stream",
          "text": [
            "First list :  [2, 5, 3, 8]\n",
            "New list :  [4, 25, 9, 64]\n"
          ],
          "name": "stdout"
        }
      ]
    },
    {
      "cell_type": "code",
      "metadata": {
        "colab": {
          "base_uri": "https://localhost:8080/"
        },
        "id": "tizRlaPCDkFH",
        "outputId": "1340fd48-825a-441b-8e1e-812bd48a3e74"
      },
      "source": [
        "#3cvowel\r\n",
        "word = input(\"enter a word\")\r\n",
        "vowels= ['a', 'e', 'i', 'o', 'u']\r\n",
        "list= []\r\n",
        "for x in word:\r\n",
        "  if(x in vowels and x not in list):\r\n",
        "    list.append(x)\r\n",
        "print(\"vowel present in the given word is:\",list)"
      ],
      "execution_count": null,
      "outputs": [
        {
          "output_type": "stream",
          "text": [
            "enter a wordanjitha\n",
            "vowel present in the given word is: ['a', 'i']\n"
          ],
          "name": "stdout"
        }
      ]
    },
    {
      "cell_type": "code",
      "metadata": {
        "colab": {
          "base_uri": "https://localhost:8080/"
        },
        "id": "Q11dLtbgD-gQ",
        "outputId": "c6ca596a-c859-4c1d-838d-704f37602432"
      },
      "source": [
        "#3d\r\n",
        "a = input(\"enter the word\")\r\n",
        "for i in range (len(a)):\r\n",
        "  print(\"ascii value is \",a[i], \"is\", ord(a[i]))"
      ],
      "execution_count": null,
      "outputs": [
        {
          "output_type": "stream",
          "text": [
            "enter the wordword\n",
            "ascii value is  w is 119\n",
            "ascii value is  o is 111\n",
            "ascii value is  r is 114\n",
            "ascii value is  d is 100\n"
          ],
          "name": "stdout"
        }
      ]
    },
    {
      "cell_type": "code",
      "metadata": {
        "colab": {
          "base_uri": "https://localhost:8080/"
        },
        "id": "lVHnkPh64eW4",
        "outputId": "8e8c7746-6323-43d2-9cf8-5b00f4af4328"
      },
      "source": [
        "#4 word count\r\n",
        "def word_count(str):\r\n",
        "    counts = dict()\r\n",
        "    words = str.split()\r\n",
        "\r\n",
        "    for word in words:\r\n",
        "        if word in counts:\r\n",
        "            counts[word] += 1\r\n",
        "        else:\r\n",
        "            counts[word] = 1\r\n",
        "\r\n",
        "    return counts\r\n",
        "print( word_count('the quick brown fox jumps over the lazy dog.'))"
      ],
      "execution_count": null,
      "outputs": [
        {
          "output_type": "stream",
          "text": [
            "{'the': 2, 'quick': 1, 'brown': 1, 'fox': 1, 'jumps': 1, 'over': 1, 'lazy': 1, 'dog.': 1}\n"
          ],
          "name": "stdout"
        }
      ]
    },
    {
      "cell_type": "code",
      "metadata": {
        "id": "0Zl88kwyGC1d",
        "colab": {
          "base_uri": "https://localhost:8080/"
        },
        "outputId": "8092a073-6d7b-4b1a-b917-5dfd9439e550"
      },
      "source": [
        "##5. Prompt the user for a list of integers. For all values greater than 100, store ‘over’ instead.\r\n",
        "#5\r\n",
        "x = []\r\n",
        "n = int(input(\"enter any integers:\"))\r\n",
        "for i in range(1, n+1):\r\n",
        "  a = int(input())\r\n",
        "  if (a>100):\r\n",
        "    x.append('over')\r\n",
        "  else:\r\n",
        "     x.append(a)\r\n",
        "print(\"modified list:\", x)"
      ],
      "execution_count": null,
      "outputs": [
        {
          "output_type": "stream",
          "text": [
            "enter any integers:4\n",
            "100\n",
            "500\n",
            "200\n",
            "300\n",
            "modified list: [100, 'over', 'over', 'over']\n"
          ],
          "name": "stdout"
        }
      ]
    },
    {
      "cell_type": "code",
      "metadata": {
        "colab": {
          "base_uri": "https://localhost:8080/"
        },
        "id": "B7RUmJuq2_ZH",
        "outputId": "a26afc30-6160-4610-ef82-701f1f4986e0"
      },
      "source": [
        "##6Store a list of first names. Count the occurrences of ‘a’ within the list\r\n",
        "a_list = [\"a\", \"b\", \"a\"]\r\n",
        "occurrences = a_list.count(\"a\")\r\n",
        "print(occurrences)\r\n",
        "\r\n"
      ],
      "execution_count": null,
      "outputs": [
        {
          "output_type": "stream",
          "text": [
            "2\n"
          ],
          "name": "stdout"
        }
      ]
    },
    {
      "cell_type": "code",
      "metadata": {
        "id": "V6x-I77cGMLv",
        "colab": {
          "base_uri": "https://localhost:8080/"
        },
        "outputId": "5f019eac-737d-4f91-c881-06c5dc2e6e87"
      },
      "source": [
        "##7Enter 2 lists of integers. Check (a) Whether list are of same length (b) whether list sums to same value (c) whether any value occur in both\r\n",
        "#7 a\r\n",
        "\r\n",
        "list1 = [1, 2, 4, 3, 8]\r\n",
        "list2 = [1, 2, 4, 3, 5]\r\n",
        "print (\"the first list is :\" + str(list1))\r\n",
        "print (\"the second list is :\" + str(list2))\r\n",
        "l1 = len(list1)\r\n",
        "l2 = len(list2)\r\n",
        "print(\"length of list1 :\", l1 , \"and length of list2 :\", l2)\r\n",
        "if l1 == l2:\r\n",
        "   print (\"list are same length\")\r\n",
        "else :\r\n",
        "    print (\"list are of different length\")"
      ],
      "execution_count": null,
      "outputs": [
        {
          "output_type": "stream",
          "text": [
            "the first list is :[1, 2, 4, 3, 8]\n",
            "the second list is :[1, 2, 4, 3, 5]\n",
            "length of list1 : 5 and length of list2 : 5\n",
            "list are same length\n"
          ],
          "name": "stdout"
        }
      ]
    },
    {
      "cell_type": "code",
      "metadata": {
        "colab": {
          "base_uri": "https://localhost:8080/"
        },
        "id": "Bk49gPsEE84Q",
        "outputId": "c71576e6-bf73-4b18-d229-27758d4853c0"
      },
      "source": [
        "#7b\r\n",
        "list1 = [1, 2, 4, 3, 8]\r\n",
        "list2 = [1, 2, 4, 3, 5]\r\n",
        "print (\"the first list is :\" + str(list1))\r\n",
        "print (\"the second list is :\" + str(list2))\r\n",
        "sum1 = 0\r\n",
        "sum2 = 0\r\n",
        "for x in range(0, len(list1)):\r\n",
        "    sum1 = sum1 + list1[x]\r\n",
        "print (\"sum of all elements in given list1 :\", sum1)\r\n",
        "for x in range(0, len(list2)):\r\n",
        "   sum2 = sum2 + list2[x]   \r\n",
        "print (\"sum of all elements in given list2 :\", sum2)\r\n",
        "if ( sum1 == sum2):\r\n",
        "   print (\"list sum to same value\") \r\n",
        "else:\r\n",
        "   print(\"list are of different sum\")"
      ],
      "execution_count": null,
      "outputs": [
        {
          "output_type": "stream",
          "text": [
            "the first list is :[1, 2, 4, 3, 8]\n",
            "the second list is :[1, 2, 4, 3, 5]\n",
            "sum of all elements in given list1 : 18\n",
            "sum of all elements in given list2 : 15\n",
            "list are of different sum\n"
          ],
          "name": "stdout"
        }
      ]
    },
    {
      "cell_type": "code",
      "metadata": {
        "colab": {
          "base_uri": "https://localhost:8080/"
        },
        "id": "0Z2_KgqwFJU5",
        "outputId": "721995c1-715a-43ac-9107-356f7c8e421d"
      },
      "source": [
        "#7c\r\n",
        "list1 = [1, 2, 4, 3, 8]\r\n",
        "list2 = [1, 2, 4, 3, 5]\r\n",
        "print (\"the first  list is :\" + str(list1))\r\n",
        "print (\"the second list is :\" + str(list2))\r\n",
        "print (\"the values occur in both lists :\")\r\n",
        "for x in list1:\r\n",
        "   if(x in list1 and x in list2):\r\n",
        "      print(x)"
      ],
      "execution_count": null,
      "outputs": [
        {
          "output_type": "stream",
          "text": [
            "the first  list is :[1, 2, 4, 3, 8]\n",
            "the second list is :[1, 2, 4, 3, 5]\n",
            "the values occur in both lists :\n",
            "1\n",
            "2\n",
            "4\n",
            "3\n"
          ],
          "name": "stdout"
        }
      ]
    },
    {
      "cell_type": "code",
      "metadata": {
        "colab": {
          "base_uri": "https://localhost:8080/"
        },
        "id": "-6r6OK0hGNjq",
        "outputId": "c065d748-7afd-4531-941e-65532a02bccd"
      },
      "source": [
        "##8Get a string from an input string where all occurrences of first character replaced with ‘$’, except first character.[eg: onion -> oni$n]\r\n",
        "def change_char(str1):\r\n",
        "  char = str1[0]\r\n",
        "  str1 = str1.replace(char, '$')\r\n",
        "  str1 = char + str1[1:]\r\n",
        "\r\n",
        "  return str1\r\n",
        "\r\n",
        "print(change_char('restart'))"
      ],
      "execution_count": null,
      "outputs": [
        {
          "output_type": "stream",
          "text": [
            "resta$t\n"
          ],
          "name": "stdout"
        }
      ]
    },
    {
      "cell_type": "code",
      "metadata": {
        "colab": {
          "base_uri": "https://localhost:8080/"
        },
        "id": "qKyjOWGh9kOd",
        "outputId": "afdd59dc-78b0-4a2a-d53b-4e5522b1ee4d"
      },
      "source": [
        "#9 Create a string from given string where first and last characters exchanged\r\n",
        "a=input(\"Enter a string : \")\r\n",
        "print(\"New string : \")\r\n",
        "print(a[-1:] + a[1:-1] + a[0])"
      ],
      "execution_count": null,
      "outputs": [
        {
          "output_type": "stream",
          "text": [
            "Enter a string : python\n",
            "New string : \n",
            "nythop\n"
          ],
          "name": "stdout"
        }
      ]
    },
    {
      "cell_type": "code",
      "metadata": {
        "colab": {
          "base_uri": "https://localhost:8080/"
        },
        "id": "WXPQUdNOEige",
        "outputId": "fb7f62d7-a9d2-4297-9059-3193168da188"
      },
      "source": [
        "#10 area circle\r\n",
        "import math\r\n",
        "r = float(input(\"Enter the radius of the circle: \"))\r\n",
        "area = math.pi* r * r\r\n",
        "print(\"%.2f\" %area)"
      ],
      "execution_count": null,
      "outputs": [
        {
          "output_type": "stream",
          "text": [
            "Enter the radius of the circle: 6\n",
            "113.10\n"
          ],
          "name": "stdout"
        }
      ]
    },
    {
      "cell_type": "code",
      "metadata": {
        "colab": {
          "base_uri": "https://localhost:8080/"
        },
        "id": "eDrorGRVFp4p",
        "outputId": "784e3b69-f10e-4c2c-e0de-63516ca0afb9"
      },
      "source": [
        "#11. Find biggest of 3 numbers entered.\r\n",
        "num1 = float(input(\"Enter first number: \"))\r\n",
        "num2 = float(input(\"Enter second number: \"))\r\n",
        "num3 = float(input(\"Enter third number: \"))\r\n",
        " \r\n",
        "if (num1 > num2) and (num1 > num3):\r\n",
        "   largest = num1\r\n",
        "elif (num2 > num1) and (num2 > num3):\r\n",
        "   largest = num2\r\n",
        "else:\r\n",
        "   largest = num3\r\n",
        " \r\n",
        "print(\"The largest number is\",largest)"
      ],
      "execution_count": null,
      "outputs": [
        {
          "output_type": "stream",
          "text": [
            "Enter first number: 10\n",
            "Enter second number: 12\n",
            "Enter third number: 14\n",
            "The largest number is 14.0\n"
          ],
          "name": "stdout"
        }
      ]
    },
    {
      "cell_type": "code",
      "metadata": {
        "colab": {
          "base_uri": "https://localhost:8080/"
        },
        "id": "6aL6mYTy-43l",
        "outputId": "908d91d6-7ced-442c-8ebe-ebeaf3614830"
      },
      "source": [
        "#12 Accept a file name from user and print extension of that\r\n",
        "filename = input(\"Enter the Filename : \")\r\n",
        "f_extns = filename.split(\".\")\r\n",
        "print (\"The extension of the file is : \" + repr(f_extns[-1]))"
      ],
      "execution_count": null,
      "outputs": [
        {
          "output_type": "stream",
          "text": [
            "Enter the Filename : sort.html\n",
            "The extension of the file is : 'html'\n"
          ],
          "name": "stdout"
        }
      ]
    },
    {
      "cell_type": "code",
      "metadata": {
        "colab": {
          "base_uri": "https://localhost:8080/"
        },
        "id": "3NgE6Bb0sp0u",
        "outputId": "f0c6d4b6-5821-4a50-fef6-dfc1d4231f15"
      },
      "source": [
        "##13. Create a list of colors from comma-separated color names entered by user. Display first and last colors.\r\n",
        "color_list = [\"Red\",\"Green\",\"White\" ,\"Black\"]\r\n",
        "print( \"%s %s\"%(color_list[0],color_list[-1]))\r\n"
      ],
      "execution_count": null,
      "outputs": [
        {
          "output_type": "stream",
          "text": [
            "Red Black\n"
          ],
          "name": "stdout"
        }
      ]
    },
    {
      "cell_type": "code",
      "metadata": {
        "colab": {
          "base_uri": "https://localhost:8080/"
        },
        "id": "-S1PxjEWpZKk",
        "outputId": "10b6f1c0-d57d-408a-879c-4ce2ba6808e9"
      },
      "source": [
        "##14 compute n+nn+nnn\r\n",
        "a = int(input(\"Input an integer : \"))\r\n",
        "n1 = int( \"%s\" % a )\r\n",
        "n2 = int( \"%s%s\" % (a,a) )\r\n",
        "n3 = int( \"%s%s%s\" % (a,a,a) )\r\n",
        "print (n1+n2+n3)"
      ],
      "execution_count": null,
      "outputs": [
        {
          "output_type": "stream",
          "text": [
            "Input an integer : 5\n",
            "615\n"
          ],
          "name": "stdout"
        }
      ]
    },
    {
      "cell_type": "code",
      "metadata": {
        "colab": {
          "base_uri": "https://localhost:8080/"
        },
        "id": "rohrjLftqOXh",
        "outputId": "606d344b-a521-48de-9d53-826c01158467"
      },
      "source": [
        "##15 Print out all colors from color-list1 not contained in color-list2.\r\n",
        "color_list_1 = set([\"White\", \"Black\", \"Red\"])\r\n",
        "color_list_2 = set([\"Red\", \"Green\"])\r\n",
        "\r\n",
        "print(color_list_1.difference(color_list_2))"
      ],
      "execution_count": null,
      "outputs": [
        {
          "output_type": "stream",
          "text": [
            "{'White', 'Black'}\n"
          ],
          "name": "stdout"
        }
      ]
    },
    {
      "cell_type": "code",
      "metadata": {
        "colab": {
          "base_uri": "https://localhost:8080/"
        },
        "id": "B7Bctx-0rdnY",
        "outputId": "341687a2-ceaf-43f3-b0bb-118e7daea73c"
      },
      "source": [
        "##16Create a single string separated with space from two strings by swapping the character at position 1.\r\n",
        "def chars_mix_up(a, b):\r\n",
        "  new_a = b[:2] + a[2:]\r\n",
        "  new_b = a[:2] + b[2:]\r\n",
        "\r\n",
        "  return new_a + ' ' + new_b\r\n",
        "print(chars_mix_up('abc', 'xyz'))\r\n"
      ],
      "execution_count": null,
      "outputs": [
        {
          "output_type": "stream",
          "text": [
            "xyc abz\n"
          ],
          "name": "stdout"
        }
      ]
    },
    {
      "cell_type": "code",
      "metadata": {
        "colab": {
          "base_uri": "https://localhost:8080/"
        },
        "id": "rqSPX0gw51rR",
        "outputId": "7bc857e7-37f3-4e76-eafc-25ef65ca182c"
      },
      "source": [
        "#17 sort ascending or descending\r\n",
        "import operator\r\n",
        "d = {1: 2, 3: 4, 4: 3, 2: 1, 0: 0}\r\n",
        "print('Original dictionary : ',d)\r\n",
        "sorted_d = sorted(d.items(), key=operator.itemgetter(1))\r\n",
        "print('Dictionary in ascending order by value : ',sorted_d)\r\n",
        "sorted_d = dict( sorted(d.items(), key=operator.itemgetter(1),reverse=True))\r\n",
        "print('Dictionary in descending order by value : ',sorted_d)\r\n"
      ],
      "execution_count": null,
      "outputs": [
        {
          "output_type": "stream",
          "text": [
            "Original dictionary :  {1: 2, 3: 4, 4: 3, 2: 1, 0: 0}\n",
            "Dictionary in ascending order by value :  [(0, 0), (2, 1), (1, 2), (4, 3), (3, 4)]\n",
            "Dictionary in descending order by value :  {3: 4, 4: 3, 1: 2, 2: 1, 0: 0}\n"
          ],
          "name": "stdout"
        }
      ]
    },
    {
      "cell_type": "code",
      "metadata": {
        "colab": {
          "base_uri": "https://localhost:8080/"
        },
        "id": "y5f-5kimAAKU",
        "outputId": "e0630036-e7b9-4b84-9ed4-271b72f30a9e"
      },
      "source": [
        "#18 merge 2 dictonery\r\n",
        "dict1 = {\"a\":100 ,\"b\":200}\r\n",
        "dict2 = {\"x\":300 ,\"y\":400}\r\n",
        "newdict = dict1.copy()\r\n",
        "newdict.update(dict2)\r\n",
        "print(\"Merged dictionary : \" , newdict)"
      ],
      "execution_count": null,
      "outputs": [
        {
          "output_type": "stream",
          "text": [
            "None\n",
            "{'d': 6, 'c': 4, 'a': 10, 'b': 8}\n"
          ],
          "name": "stdout"
        }
      ]
    },
    {
      "cell_type": "code",
      "metadata": {
        "colab": {
          "base_uri": "https://localhost:8080/"
        },
        "id": "Ytpx8XDpAq_l",
        "outputId": "8cc59fcd-6c4a-4632-aafe-ac186bd461cf"
      },
      "source": [
        "#19 gcd of 2 number\r\n",
        "import math \r\n",
        "  \r\n",
        "# prints 12 \r\n",
        "print(\"The gcd of 60 and 48 is : \", end=\"\") \r\n",
        "print(math.gcd(60, 48)) "
      ],
      "execution_count": null,
      "outputs": [
        {
          "output_type": "stream",
          "text": [
            "The gcd of 60 and 48 is : 12\n"
          ],
          "name": "stdout"
        }
      ]
    },
    {
      "cell_type": "code",
      "metadata": {
        "colab": {
          "base_uri": "https://localhost:8080/"
        },
        "id": "5adi054nBxTO",
        "outputId": "04d4de2c-036b-4c9d-b08d-303225994643"
      },
      "source": [
        "#20 list of even integer\r\n",
        "num = [7,8, 120, 25, 44, 20, 27]\r\n",
        "num = [x for x in num if x%2!=0]\r\n",
        "print(num)\r\n"
      ],
      "execution_count": null,
      "outputs": [
        {
          "output_type": "stream",
          "text": [
            "[7, 25, 27]\n"
          ],
          "name": "stdout"
        }
      ]
    }
  ]
}